{
 "cells": [
  {
   "cell_type": "code",
   "execution_count": 9,
   "id": "13bf16e6-6e90-443c-9b3b-3d08b9b6a80b",
   "metadata": {},
   "outputs": [],
   "source": [
    "import torch \n",
    "import numpy as np\n",
    "import os \n",
    "from utils.config import get_dataset_path\n",
    "from utils.data_names import mesh_file_name\n",
    "from utils.utils_func import batchify_dict, convert_dict\n",
    "from utils.surfaces import Surface, filter_furthest\n",
    "import torch.nn as nn\n",
    "from tqdm.notebook import tqdm\n",
    "import torch.nn.functional as F\n",
    "from prism_decoder.prism_decoder import PrismDecoder\n",
    "from prism_decoder.loss import PrismRegularizationLoss\n",
    "from utils.fmap import KNNSearch, extract_p2p_torch, extract_p2p_torch_fmap, torch_zoomout, soft_knnsearch\n",
    "import potpourri3d as pp3d\n",
    "import matplotlib.pyplot as plt "
   ]
  },
  {
   "cell_type": "code",
   "execution_count": 2,
   "id": "732e9d68-5206-430b-a97c-6f8718d82808",
   "metadata": {},
   "outputs": [],
   "source": [
    "import meshplot as mp\n",
    "\n",
    "def plot_mesh(myMesh,cmap=None):\n",
    "    mp.plot(myMesh.vertlist, myMesh.facelist,c=cmap)\n",
    "    \n",
    "def double_plot(myMesh1,myMesh2,cmap1=None,cmap2=None):\n",
    "    d = mp.subplot(myMesh1.vertlist, myMesh1.facelist, c=cmap1, s=[2, 2, 0])\n",
    "    mp.subplot(myMesh2.vertlist, myMesh2.facelist, c=cmap2, s=[2, 2, 1], data=d)\n",
    "\n",
    "def double_plot_surf(surf_1, surf_2,cmap1=None,cmap2=None):\n",
    "    d = mp.subplot(surf_1.vertices, surf_1.faces, c=cmap1, s=[2, 2, 0])\n",
    "    mp.subplot(surf_2.vertices, surf_2.faces, c=cmap2, s=[2, 2, 1], data=d)\n",
    "\n",
    "def visu(vertices):\n",
    "    min_coord,max_coord = np.min(vertices,axis=0,keepdims=True),np.max(vertices,axis=0,keepdims=True)\n",
    "    cmap = (vertices-min_coord)/(max_coord-min_coord)\n",
    "    return cmap\n",
    "\n",
    "def visu_pts(surf, idx_points, colors):\n",
    "    solver = pp3d.MeshHeatMethodDistanceSolver(surf.vertices, surf.faces)\n",
    "    color_array = np.zeros(surf.vertices.shape)\n",
    "    for i in range(len(idx_points)):\n",
    "        i_v = idx_points[i]\n",
    "        dist = solver.compute_distance(i_v)*2\n",
    "        color_array += np.clip(1-dist, 0, np.inf)[:, None]*colors[i][None, :]\n",
    "    color_array = np.clip(color_array, 0, 255.)\n",
    "    return color_array\n",
    "\n",
    "def visu_seg(surf, idx, colors):\n",
    "    solver = pp3d.MeshHeatMethodDistanceSolver(surf.vertices, surf.faces)\n",
    "    color_array = np.zeros(surf.vertices.shape)\n",
    "    for i in range(idx.max()+1):\n",
    "        color_array[idx==i] = colors[i]\n",
    "    color_array = np.clip(color_array, 0, 255.)\n",
    "    return color_array\n",
    "\n",
    "colors = np.array([[255, 119, 0], #orange\n",
    "                           [163, 51, 219], #violet\n",
    "                           [0, 246, 205], #bleu clair\n",
    "                           [0, 131, 246], #bleu floncé \n",
    "                           [246, 234, 0], #jaune\n",
    "                           [255, 0, 0]]) #rouge"
   ]
  },
  {
   "cell_type": "code",
   "execution_count": 3,
   "id": "486809f8-0447-48c1-9e77-554edab9bcc6",
   "metadata": {},
   "outputs": [],
   "source": [
    "## Feature extractor parameters\n",
    "\n",
    "from fmap_model import DQFMNet\n",
    "cfg = {\"fmap\": {\"n_fmap\": 30, \"n_cfmap\": 0, \"C_in\": 3, \"n_feat\": 128,\n",
    "                \"lambda_\": 1000, \"resolvant_gamma\": 0.5, \"robust\": False},\n",
    "       \"feat\": \"xyz\"}\n",
    "n_fmap = cfg['fmap']['n_fmap']\n",
    "device = \"cuda\"\n",
    "\n",
    "\n",
    "## Shape encoder\n",
    "from diffusion_net.layers import DiffusionNet\n",
    "\n",
    "class Encoder(nn.Module):\n",
    "    def __init__(self, with_grad=True):\n",
    "        super(Encoder, self).__init__()\n",
    "        self.diff_net = DiffusionNet(\n",
    "             C_in=3,\n",
    "             C_out=512,\n",
    "             C_width=128,\n",
    "             N_block=4,\n",
    "             dropout=True,\n",
    "             with_gradient_features=with_grad,\n",
    "             with_gradient_rotations=with_grad,\n",
    "        )\n",
    "\n",
    "    def forward(self, shape_dict):\n",
    "        feats = self.diff_net(shape_dict[\"vertices\"], shape_dict[\"mass\"], shape_dict[\"L\"], evals=shape_dict[\"evals\"], \n",
    "                               evecs=shape_dict[\"evecs\"], gradX=shape_dict[\"gradX\"], gradY=shape_dict[\"gradY\"], faces=shape_dict[\"faces\"])\n",
    "        x_out = torch.max(feats, dim=0).values\n",
    "        return x_out"
   ]
  },
  {
   "cell_type": "code",
   "execution_count": 4,
   "id": "a5aefbad-b23a-435c-83de-351abe254a5e",
   "metadata": {},
   "outputs": [
    {
     "name": "stdout",
     "output_type": "stream",
     "text": [
      "Jupyter environment detected. Enabling Open3D WebVisualizer.\n",
      "[Open3D INFO] WebRTC GUI backend enabled.\n",
      "[Open3D INFO] WebRTCWindowSystem: HTTP handshake server disabled.\n"
     ]
    }
   ],
   "source": [
    "## Utils to load meshes and stuff\n",
    "\n",
    "from diffusion_net.operators import compute_operators, load_operators\n",
    "from utils.mesh import load_mesh, opt_rot_points_torch\n",
    "\n",
    "cache = os.path.join(\"cache/snk\")\n",
    "os.makedirs(cache, exist_ok=True) \n",
    "\n",
    "def load_data(file, cache_file, name, num_evecs=128, make_cache=False):\n",
    "    verts_shape, faces, vnormals, area_shape, center_shape = load_mesh(file, return_vnormals=True)\n",
    "    cache_path = os.path.join(cache, cache_file)\n",
    "    if not os.path.exists(cache_path) and (not make_cache):\n",
    "        compute_operators(verts_shape, faces, vnormals, num_evecs, cache_path)\n",
    "    data_dict = load_operators(cache_path)\n",
    "    data_dict['name'] = name\n",
    "    data_dict_torch = convert_dict(data_dict, device)\n",
    "    #batchify_dict(data_dict_torch)\n",
    "    return data_dict_torch"
   ]
  },
  {
   "cell_type": "code",
   "execution_count": 5,
   "id": "7ecf1aa1-6fa4-42fb-bed7-d2b6c30d563e",
   "metadata": {},
   "outputs": [
    {
     "name": "stdout",
     "output_type": "stream",
     "text": [
      "[5.21196601e-05 4.35774369e+00 5.51596582e+00 8.86826486e+00\n",
      " 1.30050235e+01 1.74668406e+01 3.32869170e+01 3.67863619e+01\n",
      " 5.35464692e+01 5.55141564e+01 7.69785071e+01 8.60087763e+01]\n"
     ]
    },
    {
     "name": "stderr",
     "output_type": "stream",
     "text": [
      "/home/emerypierson/Documents/snk_fmap/utils/surfaces.py:200: RuntimeWarning: invalid value encountered in divide\n",
      "  normals /= af.reshape([self.vertices.shape[0], 1])\n"
     ]
    },
    {
     "name": "stdout",
     "output_type": "stream",
     "text": [
      "[[ 0.14432073 -0.0627251  -0.10617655]] [0] [268]\n"
     ]
    }
   ],
   "source": [
    "##Routine to load data: select dataset, idx\n",
    "dataset = \"SHREC\"\n",
    "idx_1, idx_2 = 25, 16 \n",
    "\n",
    "#Then the script loads (need to configure properly config.yml)\n",
    "data_path = os.path.join(get_dataset_path(dataset, True))\n",
    "\n",
    "file_1 = mesh_file_name(idx_1, dataset)\n",
    "shape_dict = load_data(os.path.join(data_path, file_1), file_1.replace(\".ply\", \".npz\"), idx_1)\n",
    "shape_surf = Surface(filename=os.path.join(data_path, file_1))\n",
    "n_verts_1 = shape_dict[\"vertices\"].shape[0]\n",
    "## Just for color transfer vizualization (needs to be rewritten, sometimes it just doesn't work)\n",
    "idx, C, _, _ = shape_surf.laplacianSegmentation(6)\n",
    "new_idx, matches, matches_init = filter_furthest(shape_surf, idx, C)\n",
    "\n",
    "\n",
    "file_2 = mesh_file_name(idx_2, dataset)\n",
    "target_dict = load_data(os.path.join(data_path, file_2), file_2.replace(\".ply\", \".npz\"), idx_2)\n",
    "target_surf = Surface(filename=os.path.join(data_path, file_2))\n",
    "n_verts_2 = target_dict[\"vertices\"].shape[0]\n",
    "target_normals = torch.from_numpy(target_surf.surfel/np.linalg.norm(target_surf.surfel, axis=-1, keepdims=True)).float().cuda()\n",
    "\n",
    "\n",
    "## Rotationally align, otherwise it won't work (see details of paragraph 5.1)\n",
    "if dataset == \"SCAPE\":\n",
    "    file_vts_1 = os.path.join(data_path, \"corres\", file_1.replace(\".ply\", \".vts\"))\n",
    "    vts_1 = np.loadtxt(file_vts_1).astype(np.int32) - 1\n",
    "\n",
    "    file_vts_2 = os.path.join(data_path, \"corres\", file_2.replace(\".ply\", \".vts\"))\n",
    "    vts_2 = np.loadtxt(file_vts_2).astype(np.int32) - 1\n",
    "\n",
    "    pts_1, pts_2 = shape_dict['vertices'][vts_1], target_dict['vertices'][vts_2]\n",
    "    rot = opt_rot_points_torch(pts_1, pts_2, device)\n",
    "    target_dict['vertices'] = target_dict['vertices'] @ rot\n",
    "    target_surf.updateVertices(target_surf.vertices @ rot.detach().cpu().numpy())\n",
    "elif dataset == \"SHREC\":\n",
    "    map_file = os.path.join(data_path, \"groundtruth\", f\"{idx_2}_{idx_1}.map\")\n",
    "    if os.path.exists(map_file):\n",
    "        map_idx = np.loadtxt(map_file).astype(np.int32) - 1\n",
    "        pts_1, pts_2 = shape_dict['vertices'][map_idx], target_dict['vertices']\n",
    "        rot = opt_rot_points_torch(pts_1, pts_2, device)\n",
    "        target_dict['vertices'] = target_dict['vertices'] @ rot\n",
    "        target_surf.updateVertices(target_surf.vertices @ rot.detach().cpu().numpy())\n",
    "    else:\n",
    "        print(\"NO MAP GROUND TRUTH, IMPOSSIBLE TO ALIGN\")"
   ]
  },
  {
   "cell_type": "code",
   "execution_count": 17,
   "id": "e207b561-9ccd-45e4-9f1d-3468a6460b6c",
   "metadata": {},
   "outputs": [],
   "source": [
    "## Model initialization\n",
    "encoder = Encoder().to(device)\n",
    "net = DQFMNet(cfg).to(device)\n",
    "decoder = PrismDecoder(dim_in=515).to(device)\n",
    "loss_prism = PrismRegularizationLoss(primo_h=0.02)\n",
    "C12_pred_init, C21_pred_init, Q_pred, feat1, feat2, evecs_trans1, evecs_trans2, evecs1, evecs2 = net({\"shape1\": shape_dict, \"shape2\": target_dict})"
   ]
  },
  {
   "cell_type": "code",
   "execution_count": 18,
   "id": "0362af93-a2d5-4914-927f-5c7afd213605",
   "metadata": {},
   "outputs": [],
   "source": [
    "## Optimization init\n",
    "params_to_opt = list(net.parameters()) + list(encoder.parameters()) + list(decoder.parameters())\n",
    "optim = torch.optim.Adam(params_to_opt, lr=0.001, betas=(0.9, 0.99))\n",
    "\n",
    "eye = torch.eye(cfg[\"fmap\"][\"n_fmap\"]).float().cuda() # For fmap loss\n",
    "eye.requires_grad = False\n",
    "n_loop = 1000\n",
    "loss_save = {\"cycle\": [], \"fmap\": [], \"mse\": [], \"prism\": []}"
   ]
  },
  {
   "cell_type": "code",
   "execution_count": 19,
   "id": "dcd9d93d-3f6d-410e-a081-c9073ca979e7",
   "metadata": {},
   "outputs": [
    {
     "data": {
      "application/vnd.jupyter.widget-view+json": {
       "model_id": "04c1715cbdb3423d8efc04051ae1298e",
       "version_major": 2,
       "version_minor": 0
      },
      "text/plain": [
       "optimizing:   0%|          | 0/1000 [00:00<?, ?it/s]"
      ]
     },
     "metadata": {},
     "output_type": "display_data"
    }
   ],
   "source": [
    "for i_iter in tqdm(range(n_loop), \"optimizing\"):\n",
    "    ## Computing maps \n",
    "    C12_pred, C21_pred, Q_pred, feat1, feat2, evecs_trans1, evecs_trans2, evecs1, evecs2 = net({\"shape1\": shape_dict, \"shape2\": target_dict})\n",
    "    \n",
    "    ## P2P 2 -> 1\n",
    "    soft_p2p_21 = soft_knnsearch(evecs2[:, :n_fmap] @ C12_pred.squeeze(), evecs1[:, :n_fmap])\n",
    "    C12_new = evecs_trans2[:n_fmap, :] @ soft_p2p_21 @ evecs1[:, :n_fmap]\n",
    "    soft_p2p_21 = soft_knnsearch(evecs2[:, :n_fmap] @ C12_new.squeeze(), evecs1[:, :n_fmap])\n",
    "\n",
    "    ## P2P 1 -> 2 \n",
    "    soft_p2p_12 = soft_knnsearch(evecs1[:, :n_fmap] @ C21_pred.squeeze(), evecs2[:, :n_fmap])\n",
    "    C21_new = evecs_trans1[:n_fmap, :] @ soft_p2p_12 @ evecs2[:, :n_fmap]\n",
    "    soft_p2p_12 = soft_knnsearch(evecs1[:, :n_fmap] @ C21_new.squeeze(), evecs2[:, :n_fmap])\n",
    "\n",
    "    # Latent vector \n",
    "    latents = encoder(shape_dict)\n",
    "    latents_duplicate = latents[None, :].repeat(n_verts_2, 1)\n",
    "\n",
    "    # Prism decoder\n",
    "    feats_decode = torch.cat((target_dict[\"vertices\"], latents_duplicate), dim=1)\n",
    "    output, prism, rots = decoder(target_dict, feats_decode)\n",
    "\n",
    "    ## losses \n",
    "    l_prism = loss_prism(prism, rots, target_dict[\"vertices\"], target_dict[\"faces\"], target_normals)\n",
    "    l_mse = ((soft_p2p_21 @ shape_dict[\"vertices\"] - output)**2).sum(dim=-1).mean()\n",
    "    l_fmap = ((C21_new.squeeze() @ C12_new.squeeze() - eye)**2).sum() + ((C12_new.squeeze() @ C12_new.squeeze().T - eye)**2).sum()\n",
    "    l_fmap += ((C12_new.squeeze() @ C21_new.squeeze() - eye)**2).sum() + ((C21_new.squeeze() @ C21_new.squeeze().T - eye)**2).sum()\n",
    "    l_cycle = ((soft_p2p_12 @ (soft_p2p_21 @ shape_dict[\"vertices\"]) - shape_dict[\"vertices\"])**2).sum(dim=-1).mean()\n",
    "\n",
    "    loss = l_mse + l_fmap + l_cycle + l_prism\n",
    "    loss.backward()\n",
    "    optim.step()\n",
    "    optim.zero_grad()\n",
    "\n",
    "    loss_save[\"cycle\"].append(l_cycle.item())\n",
    "    loss_save[\"fmap\"].append(l_fmap.item())\n",
    "    loss_save[\"mse\"].append(l_mse.item())\n",
    "    loss_save[\"prism\"].append(l_prism.item())"
   ]
  },
  {
   "cell_type": "code",
   "execution_count": 20,
   "id": "511bb240-facb-41bc-a2eb-68365b325c88",
   "metadata": {},
   "outputs": [
    {
     "data": {
      "application/vnd.jupyter.widget-view+json": {
       "model_id": "5ae5776871504f8f803b946a3c3c0e97",
       "version_major": 2,
       "version_minor": 0
      },
      "text/plain": [
       "HBox(children=(Output(), Output()))"
      ]
     },
     "metadata": {},
     "output_type": "display_data"
    },
    {
     "data": {
      "application/vnd.jupyter.widget-view+json": {
       "model_id": "d299e3dbc43e4c9db72485adf8af30e7",
       "version_major": 2,
       "version_minor": 0
      },
      "text/plain": [
       "HBox(children=(Output(), Output()))"
      ]
     },
     "metadata": {},
     "output_type": "display_data"
    }
   ],
   "source": [
    "indKNN_new, indKNN_2_new = extract_p2p_torch_fmap(C12_pred_init, evecs1, evecs2)\n",
    "cmap1 = visu_pts(shape_surf, matches_init, colors)\n",
    "cmap2 = cmap1[indKNN_new]\n",
    "double_plot_surf(target_surf, shape_surf,cmap2/255., cmap1/255.)"
   ]
  },
  {
   "cell_type": "code",
   "execution_count": 21,
   "id": "b0f69a04-0613-4258-be74-62f510e81897",
   "metadata": {},
   "outputs": [
    {
     "data": {
      "application/vnd.jupyter.widget-view+json": {
       "model_id": "d353e63cbcad4567be298ebf134c729a",
       "version_major": 2,
       "version_minor": 0
      },
      "text/plain": [
       "HBox(children=(Output(), Output()))"
      ]
     },
     "metadata": {},
     "output_type": "display_data"
    },
    {
     "data": {
      "application/vnd.jupyter.widget-view+json": {
       "model_id": "230afa7335434c4b9c76a7a731122555",
       "version_major": 2,
       "version_minor": 0
      },
      "text/plain": [
       "HBox(children=(Output(), Output()))"
      ]
     },
     "metadata": {},
     "output_type": "display_data"
    }
   ],
   "source": [
    "indKNN_new, indKNN_2_new = extract_p2p_torch_fmap(C12_new, evecs1, evecs2)\n",
    "## You can remove comments if you want to test zoomout (and put indKNN_new_zo in place for cmap2)\n",
    "# evecs_2trans = evecs2.t() @ torch.diag(target_dict[\"mass\"])\n",
    "# print(evecs_2trans.shape, C12_pred.shape)\n",
    "# new_FM = torch_zoomout(evecs1, evecs2, evecs_2trans, C12_pred.squeeze(), 150)\n",
    "# indKNN_new_zo, indKNN_2_new_zo = extract_p2p_torch_fmap(new_FM, evecs1, evecs2)\n",
    "cmap1 = visu_pts(shape_surf, matches_init, colors)\n",
    "cmap2 = cmap1[indKNN_new]\n",
    "\n",
    "#double_plot_surf(surf_template, surf_template,cmap2/255., cmap3/255.)\n",
    "double_plot_surf(target_surf, shape_surf,cmap2/255., cmap1/255.)"
   ]
  },
  {
   "cell_type": "code",
   "execution_count": 14,
   "id": "d12c0c97-d7ea-4fc7-b99c-6f6d4cc3a171",
   "metadata": {},
   "outputs": [
    {
     "data": {
      "image/png": "[encoded data removed]",
      "text/plain": [
       "<Figure size 640x480 with 1 Axes>"
      ]
     },
     "metadata": {},
     "output_type": "display_data"
    }
   ],
   "source": [
    "## Check losses\n",
    "plt.plot(loss_save['prism'])\n",
    "plt.show()"
   ]
  },
  {
   "cell_type": "code",
   "execution_count": 22,
   "id": "a2b09c30-c6a3-4642-9fb6-9d8f7183c459",
   "metadata": {},
   "outputs": [
    {
     "data": {
      "application/vnd.jupyter.widget-view+json": {
       "model_id": "270a5a92d9254ef79adfe1e52ed4e844",
       "version_major": 2,
       "version_minor": 0
      },
      "text/plain": [
       "Scene(children=[PolyMesh(data=[], default_color='gray', triangle_indices=array([   5,  322, 2897, ..., 5198, 4…"
      ]
     },
     "execution_count": 22,
     "metadata": {},
     "output_type": "execute_result"
    }
   ],
   "source": [
    "## Check meshes from the loop\n",
    "\n",
    "from ipygany import PolyMesh, Scene\n",
    "mesh_1 = PolyMesh(\n",
    "    vertices=output.detach().cpu().numpy(),\n",
    "    triangle_indices=target_surf.faces\n",
    ")\n",
    "mesh_1.default_color = 'gray'\n",
    "\n",
    "mesh_2 = PolyMesh(\n",
    "    vertices=(soft_p2p_21 @ shape_dict[\"vertices\"]).detach().cpu().numpy(),\n",
    "    triangle_indices=target_surf.faces\n",
    ")\n",
    "mesh_2.default_color = 'tomato'\n",
    "\n",
    "mesh_3 = PolyMesh(\n",
    "    vertices=shape_surf.vertices,\n",
    "    triangle_indices=shape_surf.faces\n",
    ")\n",
    "mesh_3.default_color = 'orange'\n",
    "\n",
    "mesh_4 = PolyMesh(\n",
    "    vertices=target_surf.vertices,\n",
    "    triangle_indices=target_surf.faces\n",
    ")\n",
    "mesh_4.default_color = 'green'\n",
    "\n",
    "scene = Scene([mesh_1])\n",
    "scene = Scene([mesh_1, mesh_3])\n",
    "scene"
   ]
  },
  {
   "cell_type": "code",
   "execution_count": null,
   "id": "eb7496a4-2ccc-47e7-b2cd-32793f056186",
   "metadata": {},
   "outputs": [],
   "source": []
  }
 ],
 "metadata": {
  "kernelspec": {
   "display_name": "Python 3 (ipykernel)",
   "language": "python",
   "name": "python3"
  },
  "language_info": {
   "codemirror_mode": {
    "name": "ipython",
    "version": 3
   },
   "file_extension": ".py",
   "mimetype": "text/x-python",
   "name": "python",
   "nbconvert_exporter": "python",
   "pygments_lexer": "ipython3",
   "version": "3.8.18"
  }
 },
 "nbformat": 4,
 "nbformat_minor": 5
}
